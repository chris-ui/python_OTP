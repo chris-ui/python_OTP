{
 "cells": [
  {
   "cell_type": "code",
   "execution_count": 1,
   "metadata": {},
   "outputs": [],
   "source": [
    "class Person:\n",
    "    def __init__(self):\n",
    "        self.age = 18"
   ]
  },
  {
   "cell_type": "code",
   "execution_count": 3,
   "metadata": {},
   "outputs": [
    {
     "name": "stdout",
     "output_type": "stream",
     "text": [
      "18\n",
      "5\n"
     ]
    }
   ],
   "source": [
    "p1 = Person()\n",
    "print(p1.age)\n",
    "p1.age = 5\n",
    "print(p1.age)"
   ]
  },
  {
   "cell_type": "code",
   "execution_count": 4,
   "metadata": {},
   "outputs": [],
   "source": [
    "class Person:\n",
    "    def __init__(self):\n",
    "        self.__age = 18"
   ]
  },
  {
   "cell_type": "code",
   "execution_count": 6,
   "metadata": {},
   "outputs": [
    {
     "ename": "AttributeError",
     "evalue": "'Person' object has no attribute '__age'",
     "output_type": "error",
     "traceback": [
      "\u001b[1;31m---------------------------------------------------------------------------\u001b[0m",
      "\u001b[1;31mAttributeError\u001b[0m                            Traceback (most recent call last)",
      "\u001b[1;32m~\\AppData\\Local\\Temp\\ipykernel_23412\\745513593.py\u001b[0m in \u001b[0;36m<module>\u001b[1;34m\u001b[0m\n\u001b[0;32m      1\u001b[0m \u001b[0mp1\u001b[0m \u001b[1;33m=\u001b[0m \u001b[0mPerson\u001b[0m\u001b[1;33m(\u001b[0m\u001b[1;33m)\u001b[0m\u001b[1;33m\u001b[0m\u001b[1;33m\u001b[0m\u001b[0m\n\u001b[1;32m----> 2\u001b[1;33m \u001b[0mprint\u001b[0m\u001b[1;33m(\u001b[0m\u001b[0mp1\u001b[0m\u001b[1;33m.\u001b[0m\u001b[0m__age\u001b[0m\u001b[1;33m)\u001b[0m\u001b[1;33m\u001b[0m\u001b[1;33m\u001b[0m\u001b[0m\n\u001b[0m",
      "\u001b[1;31mAttributeError\u001b[0m: 'Person' object has no attribute '__age'"
     ]
    }
   ],
   "source": [
    "p1 = Person()\n",
    "print(p1.__age)"
   ]
  },
  {
   "cell_type": "code",
   "execution_count": 7,
   "metadata": {},
   "outputs": [],
   "source": [
    "class Person:\n",
    "    def __init__(self):\n",
    "        self.__age = 18\n",
    "\n",
    "    def getAge(self):\n",
    "        return self.__age\n"
   ]
  },
  {
   "cell_type": "code",
   "execution_count": 9,
   "metadata": {},
   "outputs": [
    {
     "name": "stdout",
     "output_type": "stream",
     "text": [
      "18\n"
     ]
    }
   ],
   "source": [
    "p1 = Person()\n",
    "print(p1.getAge())"
   ]
  },
  {
   "cell_type": "code",
   "execution_count": 10,
   "metadata": {},
   "outputs": [],
   "source": [
    "# 方案1优化\n",
    "# p1.age就可以直接读\n",
    "# p1.age = 1 尝试赋值会报错"
   ]
  },
  {
   "cell_type": "code",
   "execution_count": 13,
   "metadata": {},
   "outputs": [],
   "source": [
    "class Person:\n",
    "    def __init__(self):\n",
    "        self.__age = 18\n",
    "\n",
    "    # 加装饰器\n",
    "    # 主要作用：可以以使用属性的方式，来使用这个方法\n",
    "    @property\n",
    "    def getAge(self):\n",
    "        return self.__age"
   ]
  },
  {
   "cell_type": "code",
   "execution_count": 14,
   "metadata": {},
   "outputs": [
    {
     "name": "stdout",
     "output_type": "stream",
     "text": [
      "18\n"
     ]
    }
   ],
   "source": [
    "p1 = Person()\n",
    "print(p1.getAge)"
   ]
  },
  {
   "cell_type": "code",
   "execution_count": 15,
   "metadata": {},
   "outputs": [],
   "source": [
    "class Person:\n",
    "    def __init__(self):\n",
    "        self.__age = 18\n",
    "\n",
    "    # 加装饰器\n",
    "    # 主要作用：可以以使用属性的方式，来使用这个方法\n",
    "    @property\n",
    "    def age(self):\n",
    "        return self.__age"
   ]
  },
  {
   "cell_type": "code",
   "execution_count": 16,
   "metadata": {},
   "outputs": [
    {
     "name": "stdout",
     "output_type": "stream",
     "text": [
      "18\n"
     ]
    }
   ],
   "source": [
    "p1 = Person()\n",
    "print(p1.age)"
   ]
  },
  {
   "cell_type": "code",
   "execution_count": 17,
   "metadata": {},
   "outputs": [
    {
     "ename": "AttributeError",
     "evalue": "can't set attribute",
     "output_type": "error",
     "traceback": [
      "\u001b[1;31m---------------------------------------------------------------------------\u001b[0m",
      "\u001b[1;31mAttributeError\u001b[0m                            Traceback (most recent call last)",
      "\u001b[1;32m~\\AppData\\Local\\Temp\\ipykernel_23412\\613448926.py\u001b[0m in \u001b[0;36m<module>\u001b[1;34m\u001b[0m\n\u001b[1;32m----> 1\u001b[1;33m \u001b[0mp1\u001b[0m\u001b[1;33m.\u001b[0m\u001b[0mage\u001b[0m \u001b[1;33m=\u001b[0m \u001b[1;36m666\u001b[0m\u001b[1;33m\u001b[0m\u001b[1;33m\u001b[0m\u001b[0m\n\u001b[0m",
      "\u001b[1;31mAttributeError\u001b[0m: can't set attribute"
     ]
    }
   ],
   "source": [
    "p1.age = 666"
   ]
  },
  {
   "cell_type": "code",
   "execution_count": 4,
   "metadata": {},
   "outputs": [],
   "source": [
    "# 继承自object\n",
    "class Person(object):\n",
    "    def __init__(self):\n",
    "        self.__age = 18\n",
    "\n",
    "    # 加装饰器\n",
    "    # 主要作用：可以以使用属性的方式，来使用这个方法\n",
    "    @property\n",
    "    def age(self):\n",
    "        return self.__age"
   ]
  },
  {
   "cell_type": "code",
   "execution_count": 1,
   "metadata": {},
   "outputs": [
    {
     "data": {
      "text/plain": [
       "'\\nProperty attribute.\\n    \\n      fget\\n        function to be used for getting an attribute value\\n      fset\\n        function to be used for setting an attribute value\\n      fdel\\n        function to be used for del\\'ing an attribute\\n      doc\\n        docstring\\n\\nTypical use is to define a managed attribute x:\\n        \\n        class C(object):\\n            def getx(self): return self._x\\n            def setx(self, value): self._x = value\\n            def delx(self): del self._x\\n            x = property(getx, setx, delx, \"I\\'m the \\'x\\' property.\")\\n\\nDecorators make defining new properties or modifying existing ones easy:\\n        \\n        class C(object):\\n            @property\\n            def x(self):\\n                \"I am the \\'x\\' property.\"\\n                return self._x\\n            @x.setter\\n            def x(self, value):\\n                self._x = value\\n            @x.deleter\\n            def x(self):\\n                del self._x\\n        # (copied from class doc)\\n'"
      ]
     },
     "execution_count": 1,
     "metadata": {},
     "output_type": "execute_result"
    }
   ],
   "source": [
    "property\n",
    "\n",
    "'''\n",
    "Property attribute.\n",
    "    \n",
    "      fget\n",
    "        function to be used for getting an attribute value\n",
    "      fset\n",
    "        function to be used for setting an attribute value\n",
    "      fdel\n",
    "        function to be used for del'ing an attribute\n",
    "      doc\n",
    "        docstring\n",
    "\n",
    "Typical use is to define a managed attribute x:\n",
    "        \n",
    "        class C(object):\n",
    "            def getx(self): return self._x\n",
    "            def setx(self, value): self._x = value\n",
    "            def delx(self): del self._x\n",
    "            x = property(getx, setx, delx, \"I'm the 'x' property.\")\n",
    "\n",
    "Decorators make defining new properties or modifying existing ones easy:\n",
    "        \n",
    "        class C(object):\n",
    "            @property\n",
    "            def x(self):\n",
    "                \"I am the 'x' property.\"\n",
    "                return self._x\n",
    "            @x.setter\n",
    "            def x(self, value):\n",
    "                self._x = value\n",
    "            @x.deleter\n",
    "            def x(self):\n",
    "                del self._x\n",
    "        # (copied from class doc)\n",
    "'''\n",
    "# 读取：fget  赋值：fset  \n"
   ]
  },
  {
   "cell_type": "code",
   "execution_count": 2,
   "metadata": {},
   "outputs": [],
   "source": [
    "################第一种方法也并不是绝对安全#####################################"
   ]
  },
  {
   "cell_type": "code",
   "execution_count": 3,
   "metadata": {},
   "outputs": [],
   "source": [
    "# 可以从底层调用修改名字后的属性进行修改"
   ]
  },
  {
   "cell_type": "code",
   "execution_count": 5,
   "metadata": {},
   "outputs": [
    {
     "name": "stdout",
     "output_type": "stream",
     "text": [
      "999\n"
     ]
    }
   ],
   "source": [
    "p1 = Person()\n",
    "p1._Person__age = 999\n",
    "print(p1.age)"
   ]
  },
  {
   "cell_type": "code",
   "execution_count": 6,
   "metadata": {},
   "outputs": [
    {
     "name": "stdout",
     "output_type": "stream",
     "text": [
      "999\n"
     ]
    }
   ],
   "source": [
    "p1 = Person()\n",
    "p1.__dict__['_Person__age'] = 999\n",
    "print(p1.age)"
   ]
  },
  {
   "cell_type": "code",
   "execution_count": 7,
   "metadata": {},
   "outputs": [],
   "source": [
    "# 方式2"
   ]
  },
  {
   "cell_type": "code",
   "execution_count": 8,
   "metadata": {},
   "outputs": [],
   "source": [
    "class Person:\n",
    "    # 当我们通过实例.属性=值，给一个实例增加一个属性，或者说，修改一下属性值的时候，都会调用这个方法\n",
    "    # 在这个方法内部，才会真正的把这个属性以及对应的数据，给存储到__dict__字典里面\n",
    "    def __setattr__(self,key,value):\n",
    "        print(self,key,value)\n"
   ]
  },
  {
   "cell_type": "code",
   "execution_count": 9,
   "metadata": {},
   "outputs": [
    {
     "name": "stdout",
     "output_type": "stream",
     "text": [
      "<__main__.Person object at 0x00000234A069EA90> age 18\n"
     ]
    }
   ],
   "source": [
    "p1 = Person()\n",
    "p1.age = 18"
   ]
  },
  {
   "cell_type": "code",
   "execution_count": 11,
   "metadata": {},
   "outputs": [
    {
     "ename": "AttributeError",
     "evalue": "'Person' object has no attribute 'age'",
     "output_type": "error",
     "traceback": [
      "\u001b[1;31m---------------------------------------------------------------------------\u001b[0m",
      "\u001b[1;31mAttributeError\u001b[0m                            Traceback (most recent call last)",
      "\u001b[1;32m~\\AppData\\Local\\Temp\\ipykernel_6892\\958738978.py\u001b[0m in \u001b[0;36m<module>\u001b[1;34m\u001b[0m\n\u001b[1;32m----> 1\u001b[1;33m \u001b[0mprint\u001b[0m\u001b[1;33m(\u001b[0m\u001b[0mp1\u001b[0m\u001b[1;33m.\u001b[0m\u001b[0mage\u001b[0m\u001b[1;33m)\u001b[0m   \u001b[1;31m# 没有把age添加到属性里\u001b[0m\u001b[1;33m\u001b[0m\u001b[1;33m\u001b[0m\u001b[0m\n\u001b[0m",
      "\u001b[1;31mAttributeError\u001b[0m: 'Person' object has no attribute 'age'"
     ]
    }
   ],
   "source": [
    "print(p1.age)   # 没有把age添加到属性里"
   ]
  },
  {
   "cell_type": "code",
   "execution_count": 12,
   "metadata": {},
   "outputs": [
    {
     "name": "stdout",
     "output_type": "stream",
     "text": [
      "{}\n"
     ]
    }
   ],
   "source": [
    "print(p1.__dict__)"
   ]
  },
  {
   "cell_type": "code",
   "execution_count": 13,
   "metadata": {},
   "outputs": [],
   "source": [
    "class Person:\n",
    "    # 当我们通过实例.属性=值，给一个实例增加一个属性，或者说，修改一下属性值的时候，都会调用这个方法\n",
    "    # 在这个方法内部，才会真正的把这个属性以及对应的数据，给存储到__dict__字典里面\n",
    "    def __setattr__(self,key,value):\n",
    "        print(key,value)\n",
    "    \n",
    "    # 1.判定，key，是否是我们要设置的只读属性的名称\n",
    "        if key == 'age':\n",
    "            print('这个属性是只读属性，不能设置属性')\n",
    "\n",
    "    # 2.如果不是只读属性的名称，真正的给它添加到这个实例里面去\n",
    "        else:\n",
    "            # self.key = value   # 死循环，因为当我们调用实例.属性=值的时候，都会重新来一遍这个方法\n",
    "            self.__dict__[key] = value       "
   ]
  },
  {
   "cell_type": "code",
   "execution_count": 14,
   "metadata": {},
   "outputs": [
    {
     "name": "stdout",
     "output_type": "stream",
     "text": [
      "age 18\n",
      "这个属性是只读属性，不能设置属性\n"
     ]
    }
   ],
   "source": [
    "p1 = Person()\n",
    "p1.age = 18"
   ]
  },
  {
   "cell_type": "code",
   "execution_count": 15,
   "metadata": {},
   "outputs": [
    {
     "name": "stdout",
     "output_type": "stream",
     "text": [
      "{}\n"
     ]
    }
   ],
   "source": [
    "print(p1.__dict__)"
   ]
  },
  {
   "cell_type": "code",
   "execution_count": 16,
   "metadata": {},
   "outputs": [
    {
     "name": "stdout",
     "output_type": "stream",
     "text": [
      "name sz\n"
     ]
    }
   ],
   "source": [
    "p1.name = 'sz'"
   ]
  },
  {
   "cell_type": "code",
   "execution_count": 17,
   "metadata": {},
   "outputs": [
    {
     "name": "stdout",
     "output_type": "stream",
     "text": [
      "{'name': 'sz'}\n"
     ]
    }
   ],
   "source": [
    "print(p1.__dict__)"
   ]
  },
  {
   "cell_type": "code",
   "execution_count": 18,
   "metadata": {},
   "outputs": [
    {
     "ename": "AttributeError",
     "evalue": "'Person' object has no attribute 'age'",
     "output_type": "error",
     "traceback": [
      "\u001b[1;31m---------------------------------------------------------------------------\u001b[0m",
      "\u001b[1;31mAttributeError\u001b[0m                            Traceback (most recent call last)",
      "\u001b[1;32m~\\AppData\\Local\\Temp\\ipykernel_6892\\2421167675.py\u001b[0m in \u001b[0;36m<module>\u001b[1;34m\u001b[0m\n\u001b[1;32m----> 1\u001b[1;33m \u001b[0mp1\u001b[0m\u001b[1;33m.\u001b[0m\u001b[0mage\u001b[0m\u001b[1;33m\u001b[0m\u001b[1;33m\u001b[0m\u001b[0m\n\u001b[0m",
      "\u001b[1;31mAttributeError\u001b[0m: 'Person' object has no attribute 'age'"
     ]
    }
   ],
   "source": [
    "p1.age"
   ]
  },
  {
   "cell_type": "code",
   "execution_count": 19,
   "metadata": {},
   "outputs": [],
   "source": [
    "# 问题在于，现在读取也读不了了"
   ]
  },
  {
   "cell_type": "code",
   "execution_count": 20,
   "metadata": {},
   "outputs": [],
   "source": [
    "# 所以应该判断是新增还是修改，新增就加，修改就阻止"
   ]
  },
  {
   "cell_type": "code",
   "execution_count": 21,
   "metadata": {},
   "outputs": [],
   "source": [
    "class Person:\n",
    "    # 当我们通过实例.属性=值，给一个实例增加一个属性，或者说，修改一下属性值的时候，都会调用这个方法\n",
    "    # 在这个方法内部，才会真正的把这个属性以及对应的数据，给存储到__dict__字典里面\n",
    "    def __setattr__(self,key,value):\n",
    "        print(key,value)\n",
    "    \n",
    "    # 1.判定，key，是否是我们要设置的只读属性的名称\n",
    "        if key == 'age' and key in self.__dict__.keys():\n",
    "            print('这个属性是只读属性，不能设置属性')\n",
    "\n",
    "    # 2.如果不是只读属性的名称，真正的给它添加到这个实例里面去\n",
    "        else:\n",
    "            # self.key = value   # 死循环，因为当我们调用实例.属性=值的时候，都会重新来一遍这个方法\n",
    "            self.__dict__[key] = value   "
   ]
  },
  {
   "cell_type": "code",
   "execution_count": 23,
   "metadata": {},
   "outputs": [
    {
     "name": "stdout",
     "output_type": "stream",
     "text": [
      "age 18\n",
      "{'age': 18}\n"
     ]
    }
   ],
   "source": [
    "p1 = Person()\n",
    "p1.age = 18\n",
    "print(p1.__dict__)"
   ]
  },
  {
   "cell_type": "code",
   "execution_count": 25,
   "metadata": {},
   "outputs": [
    {
     "name": "stdout",
     "output_type": "stream",
     "text": [
      "age 999\n",
      "这个属性是只读属性，不能设置属性\n",
      "18\n",
      "{'age': 18}\n"
     ]
    }
   ],
   "source": [
    "p1.age = 999\n",
    "print(p1.age)\n",
    "print(p1.__dict__)"
   ]
  },
  {
   "cell_type": "code",
   "execution_count": null,
   "metadata": {},
   "outputs": [],
   "source": []
  }
 ],
 "metadata": {
  "kernelspec": {
   "display_name": "base",
   "language": "python",
   "name": "python3"
  },
  "language_info": {
   "codemirror_mode": {
    "name": "ipython",
    "version": 3
   },
   "file_extension": ".py",
   "mimetype": "text/x-python",
   "name": "python",
   "nbconvert_exporter": "python",
   "pygments_lexer": "ipython3",
   "version": "3.9.13"
  },
  "orig_nbformat": 4,
  "vscode": {
   "interpreter": {
    "hash": "7758e92e9a61d7a3490898707f7eeb937c85e9d1e8d4e877cc6c187218f226d5"
   }
  }
 },
 "nbformat": 4,
 "nbformat_minor": 2
}
