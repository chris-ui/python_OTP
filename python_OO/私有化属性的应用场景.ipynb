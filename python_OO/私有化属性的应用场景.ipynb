{
 "cells": [
  {
   "cell_type": "code",
   "execution_count": 2,
   "metadata": {},
   "outputs": [],
   "source": [
    "class Person:\n",
    "    # 人的年龄应该是实例属性\n",
    "    pass"
   ]
  },
  {
   "cell_type": "code",
   "execution_count": 3,
   "metadata": {},
   "outputs": [],
   "source": [
    "p1 = Person()\n",
    "p1.age = 1\n",
    "\n",
    "p2 = Person()\n",
    "p2.age = 2\n",
    "\n",
    "p3 = Person()\n",
    "p3.age = 3"
   ]
  },
  {
   "cell_type": "code",
   "execution_count": 4,
   "metadata": {},
   "outputs": [],
   "source": [
    "class Person:\n",
    "    # 人的年龄应该是实例属性\n",
    "\n",
    "    # 主要作用，当我们创建好一个实例对象之后，会自动调用这个方法，来初始化这个对象\n",
    "    def __init__(self):\n",
    "        self.age = 18\n",
    "    pass"
   ]
  },
  {
   "cell_type": "code",
   "execution_count": 5,
   "metadata": {},
   "outputs": [],
   "source": [
    "p1 = Person()\n",
    "\n",
    "p2 = Person()\n",
    "\n",
    "p3 = Person()"
   ]
  },
  {
   "cell_type": "code",
   "execution_count": 6,
   "metadata": {},
   "outputs": [
    {
     "name": "stdout",
     "output_type": "stream",
     "text": [
      "18\n",
      "18\n",
      "18\n"
     ]
    }
   ],
   "source": [
    "print(p1.age)\n",
    "print(p2.age)\n",
    "print(p3.age)"
   ]
  },
  {
   "cell_type": "code",
   "execution_count": 7,
   "metadata": {},
   "outputs": [],
   "source": [
    "p1 = Person()\n",
    "p1.age = 10\n",
    "\n",
    "p2 = Person()\n",
    "\n",
    "p3 = Person()"
   ]
  },
  {
   "cell_type": "code",
   "execution_count": 8,
   "metadata": {},
   "outputs": [
    {
     "name": "stdout",
     "output_type": "stream",
     "text": [
      "10\n",
      "18\n",
      "18\n"
     ]
    }
   ],
   "source": [
    "print(p1.age)\n",
    "print(p2.age)\n",
    "print(p3.age)"
   ]
  },
  {
   "cell_type": "code",
   "execution_count": 10,
   "metadata": {},
   "outputs": [],
   "source": [
    "# 数据保护"
   ]
  },
  {
   "cell_type": "code",
   "execution_count": 11,
   "metadata": {},
   "outputs": [],
   "source": [
    "class Person:\n",
    "    # 人的年龄应该是实例属性\n",
    "\n",
    "    # 主要作用，当我们创建好一个实例对象之后，会自动调用这个方法，来初始化这个对象\n",
    "    def __init__(self):\n",
    "        self.__age = 18\n",
    "    pass"
   ]
  },
  {
   "cell_type": "code",
   "execution_count": 12,
   "metadata": {},
   "outputs": [],
   "source": [
    "p1 = Person()\n",
    "p1.__age = -10"
   ]
  },
  {
   "cell_type": "code",
   "execution_count": 13,
   "metadata": {},
   "outputs": [
    {
     "name": "stdout",
     "output_type": "stream",
     "text": [
      "{'_Person__age': 18, '__age': -10}\n"
     ]
    }
   ],
   "source": [
    "print(p1.__dict__)"
   ]
  },
  {
   "cell_type": "code",
   "execution_count": 15,
   "metadata": {},
   "outputs": [
    {
     "ename": "AttributeError",
     "evalue": "'Person' object has no attribute '__age'",
     "output_type": "error",
     "traceback": [
      "\u001b[1;31m---------------------------------------------------------------------------\u001b[0m",
      "\u001b[1;31mAttributeError\u001b[0m                            Traceback (most recent call last)",
      "\u001b[1;32m~\\AppData\\Local\\Temp\\ipykernel_21976\\745513593.py\u001b[0m in \u001b[0;36m<module>\u001b[1;34m\u001b[0m\n\u001b[0;32m      1\u001b[0m \u001b[0mp1\u001b[0m \u001b[1;33m=\u001b[0m \u001b[0mPerson\u001b[0m\u001b[1;33m(\u001b[0m\u001b[1;33m)\u001b[0m\u001b[1;33m\u001b[0m\u001b[1;33m\u001b[0m\u001b[0m\n\u001b[1;32m----> 2\u001b[1;33m \u001b[0mprint\u001b[0m\u001b[1;33m(\u001b[0m\u001b[0mp1\u001b[0m\u001b[1;33m.\u001b[0m\u001b[0m__age\u001b[0m\u001b[1;33m)\u001b[0m\u001b[1;33m\u001b[0m\u001b[1;33m\u001b[0m\u001b[0m\n\u001b[0m",
      "\u001b[1;31mAttributeError\u001b[0m: 'Person' object has no attribute '__age'"
     ]
    }
   ],
   "source": [
    "p1 = Person()\n",
    "print(p1.__age)"
   ]
  },
  {
   "cell_type": "code",
   "execution_count": 21,
   "metadata": {},
   "outputs": [],
   "source": [
    "class Person:\n",
    "    # 人的年龄应该是实例属性\n",
    "\n",
    "    # 主要作用，当我们创建好一个实例对象之后，会自动调用这个方法，来初始化这个对象\n",
    "    def __init__(self):\n",
    "        self.__age = 18\n",
    "\n",
    "    def setAge(self,value):\n",
    "        self.__age = value\n",
    "\n",
    "    def getAge(self):\n",
    "        return self.__age\n",
    "\n",
    "    pass"
   ]
  },
  {
   "cell_type": "code",
   "execution_count": 22,
   "metadata": {},
   "outputs": [],
   "source": [
    "p1 = Person()\n",
    "p1.setAge(20)"
   ]
  },
  {
   "cell_type": "code",
   "execution_count": 23,
   "metadata": {},
   "outputs": [
    {
     "name": "stdout",
     "output_type": "stream",
     "text": [
      "20\n"
     ]
    }
   ],
   "source": [
    "print(p1.getAge())"
   ]
  },
  {
   "cell_type": "code",
   "execution_count": 24,
   "metadata": {},
   "outputs": [],
   "source": [
    "# 数据过滤"
   ]
  },
  {
   "cell_type": "code",
   "execution_count": 26,
   "metadata": {},
   "outputs": [],
   "source": [
    "class Person:\n",
    "    # 人的年龄应该是实例属性\n",
    "\n",
    "    # 主要作用，当我们创建好一个实例对象之后，会自动调用这个方法，来初始化这个对象\n",
    "    def __init__(self):\n",
    "        self.__age = 18\n",
    "\n",
    "    def setAge(self,value):\n",
    "        if isinstance(value,int) and 0<value<200:\n",
    "            self.__age = value\n",
    "        else:\n",
    "            print('您输入的数据有问题，请重新输入')\n",
    "\n",
    "    def getAge(self):\n",
    "        return self.__age\n",
    "\n",
    "    pass"
   ]
  },
  {
   "cell_type": "code",
   "execution_count": 28,
   "metadata": {},
   "outputs": [
    {
     "name": "stdout",
     "output_type": "stream",
     "text": [
      "您输入的数据有问题，请重新输入\n",
      "18\n"
     ]
    }
   ],
   "source": [
    "p1 = Person()\n",
    "p1.setAge(220)\n",
    "print(p1.getAge())"
   ]
  },
  {
   "cell_type": "code",
   "execution_count": 30,
   "metadata": {},
   "outputs": [
    {
     "name": "stdout",
     "output_type": "stream",
     "text": [
      "您输入的数据有问题，请重新输入\n",
      "18\n"
     ]
    }
   ],
   "source": [
    "p1.setAge('abc')\n",
    "print(p1.getAge())"
   ]
  },
  {
   "cell_type": "code",
   "execution_count": null,
   "metadata": {},
   "outputs": [],
   "source": []
  }
 ],
 "metadata": {
  "kernelspec": {
   "display_name": "base",
   "language": "python",
   "name": "python3"
  },
  "language_info": {
   "codemirror_mode": {
    "name": "ipython",
    "version": 3
   },
   "file_extension": ".py",
   "mimetype": "text/x-python",
   "name": "python",
   "nbconvert_exporter": "python",
   "pygments_lexer": "ipython3",
   "version": "3.9.13"
  },
  "orig_nbformat": 4,
  "vscode": {
   "interpreter": {
    "hash": "7758e92e9a61d7a3490898707f7eeb937c85e9d1e8d4e877cc6c187218f226d5"
   }
  }
 },
 "nbformat": 4,
 "nbformat_minor": 2
}
